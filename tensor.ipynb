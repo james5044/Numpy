{
  "nbformat": 4,
  "nbformat_minor": 0,
  "metadata": {
    "colab": {
      "name": "tensor.ipynb",
      "provenance": []
    },
    "kernelspec": {
      "name": "python3",
      "display_name": "Python 3"
    },
    "language_info": {
      "name": "python"
    }
  },
  "cells": [
    {
      "cell_type": "code",
      "source": [
        "from google.colab import drive #drive 연결하기 \n",
        "drive.mount('/content/drive')"
      ],
      "metadata": {
        "colab": {
          "base_uri": "https://localhost:8080/"
        },
        "id": "4hp_O5Cw1913",
        "outputId": "78879078-39e9-4e99-8422-477f5108fe77"
      },
      "execution_count": null,
      "outputs": [
        {
          "output_type": "stream",
          "name": "stdout",
          "text": [
            "Drive already mounted at /content/drive; to attempt to forcibly remount, call drive.mount(\"/content/drive\", force_remount=True).\n"
          ]
        }
      ]
    },
    {
      "cell_type": "code",
      "source": [
        "import tensorflow as tf\n",
        "\n",
        "텐서 = tf.constant([3,4,5])   # 기본 텐서 만들기 \n",
        "print(텐서)             # 그냥 숫자, 리스트 담는 곳임 "
      ],
      "metadata": {
        "colab": {
          "base_uri": "https://localhost:8080/"
        },
        "id": "XTVtkvLjC-h_",
        "outputId": "41366b62-168d-43c4-d3d0-6b8e708e8104"
      },
      "execution_count": null,
      "outputs": [
        {
          "output_type": "stream",
          "name": "stdout",
          "text": [
            "tf.Tensor([3 4 5], shape=(3,), dtype=int32)\n"
          ]
        }
      ]
    },
    {
      "cell_type": "code",
      "source": [
        "import tensorflow as tf\n",
        "\n",
        "텐서1 = tf.constant([3,4,5])  \n",
        "텐서2 = tf.constant([6,7,8])\n",
        "텐서3 = tf.constant([[1,2],\n",
        "                     [3,4.0]])\n",
        "\n",
        "print(텐서1.shape)\n",
        "print(텐서3)"
      ],
      "metadata": {
        "colab": {
          "base_uri": "https://localhost:8080/"
        },
        "id": "qEPHsN5QFHcf",
        "outputId": "a282ea51-40da-4ff4-96f3-ae7033b53cc5"
      },
      "execution_count": null,
      "outputs": [
        {
          "output_type": "stream",
          "name": "stdout",
          "text": [
            "(3,)\n",
            "tf.Tensor(\n",
            "[[1. 2.]\n",
            " [3. 4.]], shape=(2, 2), dtype=float32)\n"
          ]
        }
      ]
    },
    {
      "cell_type": "code",
      "source": [
        "텐서1 = tf.constant([3,4,5], tf.float32)  # float 데이터타입 변경\n",
        "#print(텐서1)\n",
        "\n",
        "w = tf.Variable(1.0)\n",
        "w.assign(2)\n",
        "print(w)"
      ],
      "metadata": {
        "colab": {
          "base_uri": "https://localhost:8080/"
        },
        "id": "AnPcQrWnJsfq",
        "outputId": "5c6205c6-60bb-49f4-9412-b7761e7909ab"
      },
      "execution_count": null,
      "outputs": [
        {
          "output_type": "stream",
          "name": "stdout",
          "text": [
            "<tf.Variable 'Variable:0' shape=() dtype=float32, numpy=2.0>\n"
          ]
        }
      ]
    }
  ]
}